{
 "cells": [
  {
   "metadata": {},
   "cell_type": "markdown",
   "source": [
    "## 1. Introduction\n",
    "This notebook provides step by step instructions to run the preparation for embedder testing. The preparation steps include:\n",
    "- analyzing the MDX files that the embedder uses\n",
    "- generating questions for mdx files by connecting to ChatGPT and saving them into file\n",
    "- passing these questions to the embedder to see if it finds relevant mdx files\n",
    "- evaluating the results\n"
   ],
   "id": "3140b87862587a6f"
  },
  {
   "metadata": {},
   "cell_type": "code",
   "source": "#!pip install requirements.txt",
   "id": "cb384b40050f6624",
   "outputs": [],
   "execution_count": null
  },
  {
   "metadata": {},
   "cell_type": "markdown",
   "source": [
    "First, we take a look at the mdx files, that we will work with.\n",
    "We will:\n",
    "1) How many files are there in total, czech and english files,\n",
    "2) check if the files contain the title,\n",
    "3) if there are any duplicates in filenames or titles,\n",
    "4) see how big the largest file is.\n",
    "These mdx files contain documentation for the embedder to learn from."
   ],
   "id": "519e1d8417412e82"
  },
  {
   "metadata": {},
   "cell_type": "code",
   "source": "!python analyze_mdx_files.py\n",
   "id": "bdfeb66437f045f4",
   "outputs": [],
   "execution_count": null
  },
  {
   "metadata": {},
   "cell_type": "markdown",
   "source": [
    "## 2. Generate Questions\n",
    "Let's try to contact the chatbot with a custom question, to see if the API works."
   ],
   "id": "e220f4266e6d0141"
  },
  {
   "metadata": {},
   "cell_type": "code",
   "source": "!python contact_chatbot.py --question \"What are the key ideas in this document?\" --model \"gpt-4o\"\n",
   "id": "3206b8a11425a412",
   "outputs": [],
   "execution_count": null
  },
  {
   "metadata": {},
   "cell_type": "markdown",
   "source": "Second, we will use these files to generate questions, that can be answered from these files.",
   "id": "91e89677fb4f9432"
  },
  {
   "metadata": {},
   "cell_type": "code",
   "source": "!python generate_questions.py --language czech --num_questions 1 --max_files 1 --model gpt-4o",
   "id": "a8232cb19ab5416f",
   "outputs": [],
   "execution_count": null
  },
  {
   "metadata": {},
   "cell_type": "markdown",
   "source": [
    "## 3. Evaluate Embedder\n",
    "Let's try to contact the embedder, to see if the API works."
   ],
   "id": "3f0969dfc066eff7"
  },
  {
   "metadata": {
    "ExecuteTime": {
     "end_time": "2025-03-04T11:14:47.118106Z",
     "start_time": "2025-03-04T11:14:45.501784Z"
    }
   },
   "cell_type": "code",
   "source": "!python contact_embedder.py --question \"What is Omero?\" --top_k 3 --api_url \"https://embedbase-ol.dyn.cloud.e-infra.cz/v1/ceritsc-documentation/search\"",
   "id": "43b124a56cfe9256",
   "outputs": [
    {
     "name": "stdout",
     "output_type": "stream",
     "text": [
      "\n",
      "--- API Response ---\n",
      "ID: 4fc2b10eb4d747e3aa4e93d244521c75\n",
      "Created: 1741086887\n",
      "Dataset ID: ceritsc-documentation\n",
      "Query: What is Omero?\n",
      "\n",
      "--- Similarities ---\n",
      "\n",
      "Result 1:\n",
      "  - Score: 0.6329\n",
      "  - ID: 901ebdd3-fe37-4c69-9dff-bf9ba6b75f71\n",
      "  - Data: --- title: Spuštění aplikace Omero --- Máme úkol spustit aplikaci [Omero](https://www.openmicroscopy...\n",
      "\n",
      "Result 2:\n",
      "  - Score: 0.6246\n",
      "  - ID: 65d717da-6103-4c2c-a53f-1839d976ccf7\n",
      "  - Data: --- title: Use case Omero --- We have got a task to run [Omero](https://www.openmicroscopy.org/omero...\n",
      "\n",
      "Result 3:\n",
      "  - Score: 0.4498\n",
      "  - ID: 6d739198-78fd-44b8-924e-ebab85ed8db8\n",
      "  - Data: --- title: MinIO Operator --- [MinIO Operator](https://min.io/docs/minio/kubernetes/upstream/index.h...\n"
     ]
    },
    {
     "name": "stderr",
     "output_type": "stream",
     "text": [
      "C:\\Users\\sarka\\PycharmProjects\\Questions_generator\\.venv\\Lib\\site-packages\\urllib3\\connectionpool.py:1097: InsecureRequestWarning: Unverified HTTPS request is being made to host 'embedbase-ol.dyn.cloud.e-infra.cz'. Adding certificate verification is strongly advised. See: https://urllib3.readthedocs.io/en/latest/advanced-usage.html#tls-warnings\n",
      "  warnings.warn(\n"
     ]
    }
   ],
   "execution_count": 10
  },
  {
   "metadata": {},
   "cell_type": "markdown",
   "source": "Third, we use previously generated questions and pass them to the embedder.",
   "id": "d174ec5c0114d28"
  },
  {
   "metadata": {
    "ExecuteTime": {
     "end_time": "2025-03-04T11:20:00.486505Z",
     "start_time": "2025-03-04T11:19:58.827284Z"
    }
   },
   "cell_type": "code",
   "source": "!python embedder_testing.py --embedder_url \"https://embedbase-ol.dyn.cloud.e-infra.cz/v1/ceritsc-documentation/search\" --num_questions 5 --top_k 3 --num_docs 1 --language czech --output_file \"evaluation_results.json\"\n",
   "id": "cad3e863e7b6e200",
   "outputs": [
    {
     "name": "stdout",
     "output_type": "stream",
     "text": [
      "Results saved to evaluation_results.json\n"
     ]
    },
    {
     "name": "stderr",
     "output_type": "stream",
     "text": [
      "C:\\Users\\sarka\\PycharmProjects\\Questions_generator\\.venv\\Lib\\site-packages\\urllib3\\connectionpool.py:1097: InsecureRequestWarning: Unverified HTTPS request is being made to host 'embedbase-ol.dyn.cloud.e-infra.cz'. Adding certificate verification is strongly advised. See: https://urllib3.readthedocs.io/en/latest/advanced-usage.html#tls-warnings\n",
      "  warnings.warn(\n"
     ]
    }
   ],
   "execution_count": 11
  },
  {
   "metadata": {},
   "cell_type": "markdown",
   "source": " ## 4. Embedder evaluation\n",
   "id": "cd37dd2236d6df80"
  },
  {
   "metadata": {
    "ExecuteTime": {
     "end_time": "2025-03-04T11:25:31.465657Z",
     "start_time": "2025-03-04T11:25:30.318434Z"
    }
   },
   "cell_type": "code",
   "source": "!python evaluate_embedder.py --results_file \"evaluation_results.json\" --output_file \"evaluation_2.csv\"\n",
   "id": "acb18a20a14f1e85",
   "outputs": [
    {
     "name": "stdout",
     "output_type": "stream",
     "text": [
      "Accuracy: 0.00% (0/1)\n",
      "Mean Position Score: 0.0000\n",
      "Evaluation results saved to evaluation_2.csv\n",
      "                                            question  ... correct_found\n",
      "0  Jaké informace jsou obsaženy v sekci \"News\" s ...  ...         False\n",
      "\n",
      "[1 rows x 5 columns]\n"
     ]
    }
   ],
   "execution_count": 12
  }
 ],
 "metadata": {
  "kernelspec": {
   "display_name": "Python 3",
   "language": "python",
   "name": "python3"
  },
  "language_info": {
   "codemirror_mode": {
    "name": "ipython",
    "version": 2
   },
   "file_extension": ".py",
   "mimetype": "text/x-python",
   "name": "python",
   "nbconvert_exporter": "python",
   "pygments_lexer": "ipython2",
   "version": "2.7.6"
  }
 },
 "nbformat": 4,
 "nbformat_minor": 5
}
